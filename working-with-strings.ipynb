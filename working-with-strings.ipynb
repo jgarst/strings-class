{
 "cells": [
  {
   "cell_type": "markdown",
   "metadata": {
    "slideshow": {
     "slide_type": "slide"
    }
   },
   "source": [
    "<h1><center>Quick Review: Python Collections</center></h1>\n",
    "\n",
    "\n",
    "<table>\n",
    "    \n",
    "<thead>\n",
    "<h1>\n",
    "<tr>\n",
    "<th style=\"text-align: left\"><h1>Collection</h1></th>\n",
    "<th style=\"text-align: left\"><h1>Syntax</h1></th>\n",
    "<th style=\"text-align: left\"><h1>Usage</h1></th>\n",
    "</tr>\n",
    "</h1>\n",
    "</thead>\n",
    "    \n",
    "<tbody>\n",
    "<tr>\n",
    "<td style=\"text-align: left\"><h1>List</h1></td>\n",
    "<td style=\"text-align: left\"><h1><code class=\"cm-s-ipython language-python\">[<span class=\"cm-number\">1</span>, <span class=\"cm-string\">\"two\"</span>, <span class=\"cm-number\">3</span>]</code>\n",
    "</h1></td>\n",
    "<td style=\"text-align: left\"><h1>Examples of</h1></td>\n",
    "</tr>\n",
    "    \n",
    "<tr>\n",
    "<td style=\"text-align: left\"><h1>Tuple</h1></td>\n",
    "<td style=\"text-align: left\"><h1><code class=\"cm-s-ipython language-python\">(<span class=\"cm-number\">1</span>, <span class=\"cm-string\">\"two\"</span>, <span class=\"cm-number\">3</span>)</code></h1></td>\n",
    "<td style=\"text-align: left\"><h1>Related information</h1></td>\n",
    "</tr>\n",
    "\n",
    "<tr>\n",
    "<td><h1 style=\"text-align: left\">Dictionary</h1></td>\n",
    "<td style=\"text-align: left\"><h1><code class=\"cm-s-ipython language-python\">{<span class=\"cm-string\">\"one\"</span>: <span class=\"cm-number\">1</span>, <span class=\"cm-string\">\"two\"</span>: <span class=\"cm-number\">2</span>}</code>\n",
    "</h1></td>\n",
    "<td style=\"text-align: left\"><h1>Save for later</h1></td>\n",
    "</tr>\n",
    "\n",
    "<tr>\n",
    "<td><h1 style=\"text-align: left\">Set</h1></td>\n",
    "<td style=\"text-align: left\"><h1><code class=\"cm-s-ipython language-python\">{<span class=\"cm-number\">1</span>, <span class=\"cm-string\">\"two\"</span>, <span class=\"cm-number\">3</span>}</code>\n",
    "</h1></td>\n",
    "<td style=\"text-align: left\"><h1>Check for membership</h1></td>\n",
    "</tr>\n",
    "\n",
    "</tbody></table>"
   ]
  },
  {
   "cell_type": "markdown",
   "metadata": {
    "slideshow": {
     "slide_type": "slide"
    }
   },
   "source": [
    "<h1><center>Properties of Collections</center></h1>\n",
    "\n",
    "\n",
    "<table>\n",
    "    \n",
    "<thead>\n",
    "<h1>\n",
    "<tr>\n",
    "<th style=\"text-align: left\"><h1>Collection</h1></th>\n",
    "<th style=\"text-align: left\"><h1>Ordered</h1></th>\n",
    "<th style=\"text-align: left\"><h1>Immutable</h1></th>\n",
    "<th style=\"text-align: left\"><h1>Fast Access</h1></th>\n",
    "\n",
    "</tr>\n",
    "</h1>\n",
    "</thead>\n",
    "    \n",
    "<tbody>\n",
    "<tr>\n",
    "<td style=\"text-align: left\"><h1>List</h1></td>\n",
    "<td style=\"text-align: left\"><h1>Yes</h1></td>\n",
    "<td style=\"text-align: left\"><h1>No</h1></td>\n",
    "<td style=\"text-align: left\"><h1>No</h1></td>\n",
    "</tr>\n",
    "    \n",
    "<tr>\n",
    "<td style=\"text-align: left\"><h1>Tuple</h1></td>\n",
    "<td style=\"text-align: left\"><h1>Yes</h1></td>\n",
    "<td style=\"text-align: left\"><h1>Yes</h1></td>\n",
    "<td style=\"text-align: left\"><h1>No</h1></td>\n",
    "</tr>\n",
    "\n",
    "<tr>\n",
    "<td><h1 style=\"text-align: left\">Dictionary</h1></td>\n",
    "<td style=\"text-align: left\"><h1>Technically</h1></td>\n",
    "<td style=\"text-align: left\"><h1>No</h1></td>\n",
    "<td style=\"text-align: left\"><h1>Yes</h1></td>\n",
    "</tr>\n",
    "\n",
    "<tr>\n",
    "<td><h1 style=\"text-align: left\">Set</h1></td>\n",
    "<td style=\"text-align: left\"><h1>No</h1></td>\n",
    "<td style=\"text-align: left\"><h1>No</h1></td>\n",
    "<td style=\"text-align: left\"><h1>Yes</h1></td>\n",
    "</tr>\n",
    "\n",
    "</tbody></table>"
   ]
  },
  {
   "cell_type": "markdown",
   "metadata": {
    "slideshow": {
     "slide_type": "slide"
    }
   },
   "source": [
    "<h1 style=\"text-align:center;\">We can iterate over any of these</h1>"
   ]
  },
  {
   "cell_type": "code",
   "execution_count": null,
   "metadata": {},
   "outputs": [],
   "source": [
    "collection = {2, 1, 3}\n",
    "for item in collection:\n",
    "    print(item)"
   ]
  },
  {
   "cell_type": "markdown",
   "metadata": {
    "slideshow": {
     "slide_type": "slide"
    }
   },
   "source": [
    "<h1 style=\"text-align: center;\">Python is really good at reusing concepts.</h1>\n",
    "\n",
    "<h3 style=\"text-align: center;\">Python Strings are ordered and immutable, so we can treat them like tuples</h3>\n",
    "\n",
    "\n"
   ]
  },
  {
   "cell_type": "markdown",
   "metadata": {
    "slideshow": {
     "slide_type": "slide"
    }
   },
   "source": [
    "<h1 style=\"text-align:center;\">Strings!</h1>"
   ]
  },
  {
   "cell_type": "code",
   "execution_count": null,
   "metadata": {},
   "outputs": [],
   "source": [
    "# single quote strings\n",
    "# double quote strings\n",
    "# string literals"
   ]
  },
  {
   "cell_type": "markdown",
   "metadata": {},
   "source": [
    "<h3 style=\"text-align: center;\">What is the difference between <code class=\"cm-s-ipython language-python\" style=\"font-style: italic;\">var</code> and <code class=\"cm-s-ipython language-python\"><span class=\"cm-string\" style=\"font-style: italic;\">\"var\"</span></code></h3>"
   ]
  },
  {
   "cell_type": "markdown",
   "metadata": {},
   "source": [
    "<h1 style=\"text-align:center;\">A string acts like a tuple of charaters</h1>"
   ]
  },
  {
   "cell_type": "code",
   "execution_count": null,
   "metadata": {},
   "outputs": [],
   "source": [
    "my_string = 'abc'\n",
    "print(my_string[1])"
   ]
  },
  {
   "cell_type": "code",
   "execution_count": null,
   "metadata": {},
   "outputs": [],
   "source": [
    "my_string[1] = '!'"
   ]
  },
  {
   "cell_type": "markdown",
   "metadata": {
    "slideshow": {
     "slide_type": "slide"
    }
   },
   "source": [
    "<h1 style=\"text-align:center;\">What happens when we use inequalities on strings?</h1>\n",
    "\n",
    "<h1 style=\"text-align:center;\">Does the same thing happen with collections?</h1>"
   ]
  },
  {
   "cell_type": "code",
   "execution_count": null,
   "metadata": {},
   "outputs": [],
   "source": [
    "print('abc' < 'def')"
   ]
  },
  {
   "cell_type": "markdown",
   "metadata": {},
   "source": [
    "<h1 style=\"text-align:center;\">If strings are immutable, what happens when you add them?</h1>"
   ]
  },
  {
   "cell_type": "code",
   "execution_count": null,
   "metadata": {},
   "outputs": [],
   "source": [
    "print('abc' + 'def')"
   ]
  },
  {
   "cell_type": "markdown",
   "metadata": {
    "slideshow": {
     "slide_type": "slide"
    }
   },
   "source": [
    "# Indices are zero indexed"
   ]
  },
  {
   "cell_type": "code",
   "execution_count": null,
   "metadata": {},
   "outputs": [],
   "source": [
    "my_list = ['one', 'two', 'three']\n",
    "my_string = 'abc'\n",
    "# get first and second characters"
   ]
  },
  {
   "cell_type": "markdown",
   "metadata": {
    "slideshow": {
     "slide_type": "slide"
    }
   },
   "source": [
    "#  Trick question!\n",
    "\n",
    "### What is `my_list[len(my_list)]`?"
   ]
  },
  {
   "cell_type": "markdown",
   "metadata": {
    "slideshow": {
     "slide_type": "slide"
    }
   },
   "source": [
    "Negative indices count from the end of the list\n",
    "------------------------------------------------------------------\n",
    "\n",
    "`numbers[-i]` is equivalent to `numbers[len(numbers) - i]`"
   ]
  },
  {
   "cell_type": "code",
   "execution_count": null,
   "metadata": {},
   "outputs": [],
   "source": [
    "numbers = ['one', 'two', 'three', 'four', 'five']\n",
    "# get last and second to last words\n",
    "# show -1 and len - 1 are equal"
   ]
  },
  {
   "cell_type": "markdown",
   "metadata": {
    "slideshow": {
     "slide_type": "subslide"
    }
   },
   "source": [
    "Indices support assignment\n",
    "----------------------------------------"
   ]
  },
  {
   "cell_type": "code",
   "execution_count": null,
   "metadata": {},
   "outputs": [],
   "source": [
    "numbers = [0, 1, 2, 3, 4, 5]\n",
    "# replace the fifth element with 'five'"
   ]
  },
  {
   "cell_type": "markdown",
   "metadata": {
    "slideshow": {
     "slide_type": "subslide"
    }
   },
   "source": [
    "Repeated indices retrieve data from nested collections\n",
    "------------------------------------------------------------------------------"
   ]
  },
  {
   "cell_type": "code",
   "execution_count": null,
   "metadata": {},
   "outputs": [],
   "source": [
    "table = [\n",
    "    [(0, 0), (0, 1), (0, 2)],\n",
    "    [(1, 0), (1, 1), (1, 2)],\n",
    "    [(2, 0), (2, 1), (2, 2)]\n",
    "]\n",
    "\n",
    "print(table[0][1])  # walk through this step by step"
   ]
  },
  {
   "cell_type": "markdown",
   "metadata": {
    "slideshow": {
     "slide_type": "-"
    }
   },
   "source": [
    "What will `print(table[1][2][0])` show? \n",
    "\n",
    "How about `print(table[0][0][-1])`?"
   ]
  },
  {
   "cell_type": "markdown",
   "metadata": {
    "slideshow": {
     "slide_type": "slide"
    }
   },
   "source": [
    "# Who has had trouble with zero indexing?"
   ]
  },
  {
   "cell_type": "markdown",
   "metadata": {
    "slideshow": {
     "slide_type": "slide"
    }
   },
   "source": [
    "Slices!\n",
    "----------\n",
    "\n",
    "`list[start:stop]` means \n",
    " * from index `start`\n",
    " * up to but not including, index `stop`"
   ]
  },
  {
   "cell_type": "code",
   "execution_count": null,
   "metadata": {},
   "outputs": [],
   "source": [
    "numbers = ['one', 'two', 'three', 'four', 'five']\n",
    "print(numbers[2:4])"
   ]
  },
  {
   "cell_type": "markdown",
   "metadata": {},
   "source": [
    "### What slice will return the first 3 elements?\n",
    "### If len(numbers) is the number of items in the list, what slice will return the first half of the list?"
   ]
  },
  {
   "cell_type": "markdown",
   "metadata": {
    "slideshow": {
     "slide_type": "slide"
    }
   },
   "source": [
    "#### Slicing means from index *start* up to but not including index *stop*\n",
    "\n",
    "What will `print(numbers[2:2])` show?\n",
    "\n",
    "How about `print(numbers[5:2])`?"
   ]
  },
  {
   "cell_type": "markdown",
   "metadata": {
    "slideshow": {
     "slide_type": "slide"
    }
   },
   "source": [
    "### In the slice `a:b`, both `a` and `b` are optional.\n",
    "- `numbers[:b]` is equivalent to `numbers[0:b]`.\n",
    "- `numbers[a:]` is equivalent to `numbers[a:len(my_list)]`\n",
    "- what does `numbers[:]` do?"
   ]
  },
  {
   "cell_type": "code",
   "execution_count": null,
   "metadata": {},
   "outputs": [],
   "source": []
  },
  {
   "cell_type": "markdown",
   "metadata": {
    "slideshow": {
     "slide_type": "slide"
    }
   },
   "source": [
    "# In the slice `a:b`, `a` and `b` can also be negative."
   ]
  },
  {
   "cell_type": "code",
   "execution_count": null,
   "metadata": {},
   "outputs": [],
   "source": [
    "numbers = ['one', 'two', 'three', 'four', 'five', 'six']\n",
    "print(numbers[-3])"
   ]
  },
  {
   "cell_type": "markdown",
   "metadata": {
    "slideshow": {
     "slide_type": "slide"
    }
   },
   "source": [
    "### The way to get indices correct is to imaginge the number coming before the elements."
   ]
  },
  {
   "cell_type": "markdown",
   "metadata": {
    "slideshow": {
     "slide_type": "slide"
    }
   },
   "source": [
    "Step size!\n",
    "--------------\n",
    "\n",
    "Slices have a third optional parameter that controls the stride\n",
    "\n",
    "`list[start:stop:step]` means \n",
    " * from index `start`\n",
    " * return every element `step` apart\n",
    " * up to but not including `stop`"
   ]
  },
  {
   "cell_type": "code",
   "execution_count": null,
   "metadata": {},
   "outputs": [],
   "source": [
    "print(my_list)\n",
    "my_list[::-1]"
   ]
  },
  {
   "cell_type": "markdown",
   "metadata": {
    "slideshow": {
     "slide_type": "slide"
    }
   },
   "source": [
    "### Tricky question\n",
    "slice [start:stop:step] provides from *start* every *step* apart, up to but not including index *stop*\n",
    "\n",
    "Which one of these does what you expect it to?\n",
    "* `numbers[2:5:-1]`\n",
    "* `numbers[5:2:-1]`"
   ]
  },
  {
   "cell_type": "code",
   "execution_count": null,
   "metadata": {},
   "outputs": [],
   "source": []
  },
  {
   "cell_type": "code",
   "execution_count": null,
   "metadata": {
    "slideshow": {
     "slide_type": "slide"
    }
   },
   "outputs": [],
   "source": [
    "# What elements will the following slices return?\n",
    "numbers = ['one', 'two', 'three', 'four', 'five']\n",
    "print(numbers[:-2])\n",
    "print(numbers[2:-2])\n",
    "print(numbers[-2:2])\n",
    "print(numbers[-2:])"
   ]
  },
  {
   "cell_type": "markdown",
   "metadata": {
    "slideshow": {
     "slide_type": "slide"
    }
   },
   "source": [
    "# Given a string `my_string`, rotate it `i` steps to the left.\n",
    "\n",
    "## `012345` rotated 2 steps to the left becomes `234501`"
   ]
  },
  {
   "cell_type": "markdown",
   "metadata": {},
   "source": [
    "---------------------------------------------"
   ]
  },
  {
   "cell_type": "markdown",
   "metadata": {},
   "source": [
    "# Challenge: Given a string, print all of it's substrings\n",
    "\n",
    "### For example, given string `abc`, print `abc`, `ab`, `bc`, `a`, `b`, `c`"
   ]
  },
  {
   "cell_type": "markdown",
   "metadata": {
    "slideshow": {
     "slide_type": "slide"
    }
   },
   "source": [
    "# We can assign into slices"
   ]
  },
  {
   "cell_type": "code",
   "execution_count": null,
   "metadata": {},
   "outputs": [],
   "source": [
    "numbers[2:5] = 2, 3, 4\n",
    "print(numbers)\n",
    "\n",
    "# Example of assigning with unequal lengths"
   ]
  },
  {
   "cell_type": "markdown",
   "metadata": {
    "slideshow": {
     "slide_type": "slide"
    }
   },
   "source": [
    "# Bonus Question:\n",
    "\n",
    "### Use slices to assign every odd element in a list to the even element immediately preceding it.\n",
    "\n",
    "### `[0, 1, 2, 3] -> [1, 1, 3, 3]`"
   ]
  },
  {
   "cell_type": "markdown",
   "metadata": {
    "slideshow": {
     "slide_type": "slide"
    }
   },
   "source": [
    "# Format strings!\n",
    "\n",
    "### Python keeps reinventing string formatting, the latest is format strings (Python version >= 3.6)"
   ]
  },
  {
   "cell_type": "code",
   "execution_count": 1,
   "metadata": {},
   "outputs": [
    {
     "name": "stdout",
     "output_type": "stream",
     "text": [
      "\n",
      "Hello Jared\n",
      "Welcome to Noisebridge\n",
      "\n"
     ]
    }
   ],
   "source": [
    "name = \"Jared\"\n",
    "place = \"Noisebridge\"\n",
    "\n",
    "# example of a format string"
   ]
  },
  {
   "cell_type": "markdown",
   "metadata": {
    "slideshow": {
     "slide_type": "slide"
    }
   },
   "source": [
    "# Formatting options for everyone!\n",
    "\n",
    "### Check out https://pyformat.info/ for details."
   ]
  },
  {
   "cell_type": "code",
   "execution_count": null,
   "metadata": {},
   "outputs": [],
   "source": [
    "import math\n",
    "\n",
    "name = 'Noisebridge'\n",
    "my_name = 'Jared'\n",
    "\n",
    "print(f'I love {math.pi} -> I love {math.pi * 10:.4}')\n",
    "print(f'I love fixed width {name:^11}')\n",
    "print(f'I love fixed width {my_name:^11}')"
   ]
  },
  {
   "cell_type": "markdown",
   "metadata": {
    "slideshow": {
     "slide_type": "slide"
    }
   },
   "source": [
    "The previous preferred way of formatting strings was the .format method"
   ]
  },
  {
   "cell_type": "code",
   "execution_count": null,
   "metadata": {},
   "outputs": [],
   "source": [
    "name = 'Noisebridge'\n",
    "print('Hello {0}, {1}!'.format(name, \"nice to meet you\"))"
   ]
  },
  {
   "cell_type": "markdown",
   "metadata": {
    "slideshow": {
     "slide_type": "slide"
    }
   },
   "source": [
    "### Use dir to get a list of all methods associated with a string"
   ]
  },
  {
   "cell_type": "code",
   "execution_count": null,
   "metadata": {},
   "outputs": [],
   "source": [
    "dir(str)"
   ]
  },
  {
   "cell_type": "markdown",
   "metadata": {
    "slideshow": {
     "slide_type": "-"
    }
   },
   "source": [
    "### There are lots of methods to work with strings:\n",
    "- split\n",
    "- join\n",
    "- strip\n",
    "- lower/upper\n",
    "- replace\n",
    "- startswith/endswith"
   ]
  },
  {
   "cell_type": "markdown",
   "metadata": {
    "slideshow": {
     "slide_type": "slide"
    }
   },
   "source": [
    "### split and join are the hardest to understand, but very useful"
   ]
  },
  {
   "cell_type": "code",
   "execution_count": null,
   "metadata": {
    "slideshow": {
     "slide_type": "-"
    }
   },
   "outputs": [],
   "source": [
    "my_str = \"1 2 3 4\"\n",
    "# split\n",
    "\n",
    "# rejoin on space\n",
    "\n",
    "# rejoin on <>"
   ]
  },
  {
   "cell_type": "markdown",
   "metadata": {
    "slideshow": {
     "slide_type": "slide"
    }
   },
   "source": [
    "# convert the string '1, 2, 3, 4' into the list of integers `[1, 2, 3, 4]`\n",
    ">\n",
    "> remember that you can convert a number represented as a string into an integer with `int('5')`"
   ]
  },
  {
   "cell_type": "markdown",
   "metadata": {
    "slideshow": {
     "slide_type": "slide"
    }
   },
   "source": [
    "# Challenge: Use replace, split, strip and slicing to return the last five words of the first sentence."
   ]
  },
  {
   "cell_type": "code",
   "execution_count": 4,
   "metadata": {},
   "outputs": [
    {
     "data": {
      "text/plain": [
       "'\\n…In that Empire, the Art of Cartography attained such Perfection that the map of a\\nsingle Province occupied the entirety of a City, and the map of the Empire, the entirety\\nof a Province. In time, those Unconscionable Maps no longer satisfied, and the\\nCartographers Guilds struck a Map of the Empire whose size was that of the Empire, and\\nwhich coincided point for point with it. The following Generations, who were not so\\nfond of the Study of Cartography as their Forebears had been, saw that that vast Map\\nwas Useless, and not without some Pitilessness was it, that they delivered it up to the\\nInclemencies of Sun and Winters. In the Deserts of the West, still today, there are\\nTattered Ruins of that Map, inhabited by Animals and Beggars; in all the Land there is\\nno other Relic of the Disciplines of Geography.\\n—Suarez Miranda,Viajes devarones prudentes, Libro IV,Cap. XLV, Lerida, 1658\\n'"
      ]
     },
     "execution_count": 4,
     "metadata": {},
     "output_type": "execute_result"
    }
   ],
   "source": [
    "science = \"\"\"\n",
    "…In that Empire, the Art of Cartography attained such Perfection that the map of a\n",
    "single Province occupied the entirety of a City, and the map of the Empire, the entirety\n",
    "of a Province. In time, those Unconscionable Maps no longer satisfied, and the\n",
    "Cartographers Guilds struck a Map of the Empire whose size was that of the Empire, and\n",
    "which coincided point for point with it. The following Generations, who were not so\n",
    "fond of the Study of Cartography as their Forebears had been, saw that that vast Map\n",
    "was Useless, and not without some Pitilessness was it, that they delivered it up to the\n",
    "Inclemencies of Sun and Winters. In the Deserts of the West, still today, there are\n",
    "Tattered Ruins of that Map, inhabited by Animals and Beggars; in all the Land there is\n",
    "no other Relic of the Disciplines of Geography.\n",
    "—Suarez Miranda,Viajes devarones prudentes, Libro IV,Cap. XLV, Lerida, 1658\n",
    "\"\"\"\n",
    "science"
   ]
  },
  {
   "cell_type": "markdown",
   "metadata": {
    "slideshow": {
     "slide_type": "slide"
    }
   },
   "source": [
    "### Regular Expressions!"
   ]
  },
  {
   "cell_type": "markdown",
   "metadata": {},
   "source": [
    "A regular expression is a pattern that matches some set of strings.\n",
    "* the regular expression `abc` matches exactly one string: \"abc\"\n",
    "* the regular expression `\\d` matches any single character, 1-9\n",
    "* the regular expression `.` matches any single character\n",
    "* `*` matches any number of repetitions for the previous character. `a*` matches \"\", \"a\", \"aa\", \"aaa\"...\n",
    "* `+` matches one or more repetitions\n",
    "* `?` matches zero or one repetitions\n",
    "* `()` is a group that can be operated on collectively. `(ABC)?` matches \"\" or \"ABC\"\n"
   ]
  },
  {
   "cell_type": "code",
   "execution_count": null,
   "metadata": {
    "slideshow": {
     "slide_type": "slide"
    }
   },
   "outputs": [],
   "source": [
    "import re\n",
    "re_digit = re.compile('\\d')\n",
    "match = re_digit.match('1')\n",
    "if match is not None:\n",
    "    print(match.group())"
   ]
  },
  {
   "cell_type": "code",
   "execution_count": null,
   "metadata": {},
   "outputs": [],
   "source": [
    "for match in re.finditer(pattern, string):\n",
    "    print(match)"
   ]
  },
  {
   "cell_type": "markdown",
   "metadata": {
    "slideshow": {
     "slide_type": "slide"
    }
   },
   "source": [
    "Special characters in regular expressions:\n",
    "   - \\d any digit\n",
    "   - \\ escape\n",
    "   - . any single character\n",
    "   - \\* between 0 and infinite repetitions of the previous character\n",
    "   - \\+ between 1 and infinite repetitions of the previous character\n",
    "   - ? between 0 and 1 repetitions of the previous character\n",
    "   - {i,j} between i and j repetitions of the previous character\n",
    "   - () group that can be operated on, or referenced later with \\1 ... \\9\n",
    "   - lots more ...\n",
    "    \n",
    "Lets make a regular expression that matches a phone number!"
   ]
  },
  {
   "cell_type": "markdown",
   "metadata": {
    "slideshow": {
     "slide_type": "slide"
    }
   },
   "source": [
    "Check out:\n",
    "=========\n",
    "* string methods for more useful string manipulation\n",
    "* numpy for fancier indexing\n",
    "* the itertools module for yet more collection manipulation\n",
    "* https://regexr.com to learn regular expressions"
   ]
  }
 ],
 "metadata": {
  "celltoolbar": "Slideshow",
  "kernelspec": {
   "display_name": "Python 3",
   "language": "python",
   "name": "python3"
  },
  "language_info": {
   "codemirror_mode": {
    "name": "ipython",
    "version": 3
   },
   "file_extension": ".py",
   "mimetype": "text/x-python",
   "name": "python",
   "nbconvert_exporter": "python",
   "pygments_lexer": "ipython3",
   "version": "3.7.4"
  }
 },
 "nbformat": 4,
 "nbformat_minor": 1
}
